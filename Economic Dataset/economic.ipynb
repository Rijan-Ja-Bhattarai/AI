{
 "cells": [
  {
   "cell_type": "code",
   "execution_count": 2,
   "id": "c4da0bc0-ed89-44c8-ab0d-53e0f78d0bd6",
   "metadata": {},
   "outputs": [],
   "source": [
    "import pandas as pd\n",
    "import matplotlib.pyplot as plt \n",
    "import numpy as np\n",
    "import plotly.express as px\n",
    "from fredapi import Fred\n",
    "from dotenv import load_dotenv\n",
    "import os\n",
    "\n",
    "\n",
    "plt.style.use('fivethirtyeight')\n",
    "pd.set_option('display.max_columns', 500)\n",
    "pd.set_option('display.width', 1000)\n",
    "color_pal = plt.rcParams[\"axes.prop_cycle\"].by_key()[\"color\"]\n",
    "\n",
    "load_dotenv()\n",
    "fred_key = os.getenv(\"FRED_API_KEY\")"
   ]
  },
  {
   "cell_type": "markdown",
   "id": "d25a53dc-4047-49fa-9cc5-a05eba42ef97",
   "metadata": {},
   "source": [
    "# Create Ferd Object"
   ]
  },
  {
   "cell_type": "code",
   "execution_count": 3,
   "id": "8c88e011-f230-4457-9d5e-6894874564f3",
   "metadata": {},
   "outputs": [],
   "source": [
    "fred = Fred(api_key = fred_key)"
   ]
  },
  {
   "cell_type": "markdown",
   "id": "7b616ef4-cadb-4107-86d3-be9e21f05f85",
   "metadata": {},
   "source": [
    "# Search Freds Econ Data"
   ]
  },
  {
   "cell_type": "code",
   "execution_count": 32,
   "id": "e2ec3e1e-8d10-4e61-9c59-679a901eb472",
   "metadata": {},
   "outputs": [],
   "source": [
    "nasdaq_search = fred.search('NASDAQ', limit = 1000, order_by = 'popularity')"
   ]
  },
  {
   "cell_type": "code",
   "execution_count": 33,
   "id": "9989d382-3bb9-40e4-91df-26239139878f",
   "metadata": {
    "scrolled": true
   },
   "outputs": [
    {
     "data": {
      "text/html": [
       "<div>\n",
       "<style scoped>\n",
       "    .dataframe tbody tr th:only-of-type {\n",
       "        vertical-align: middle;\n",
       "    }\n",
       "\n",
       "    .dataframe tbody tr th {\n",
       "        vertical-align: top;\n",
       "    }\n",
       "\n",
       "    .dataframe thead th {\n",
       "        text-align: right;\n",
       "    }\n",
       "</style>\n",
       "<table border=\"1\" class=\"dataframe\">\n",
       "  <thead>\n",
       "    <tr style=\"text-align: right;\">\n",
       "      <th></th>\n",
       "      <th>id</th>\n",
       "      <th>realtime_start</th>\n",
       "      <th>realtime_end</th>\n",
       "      <th>title</th>\n",
       "      <th>observation_start</th>\n",
       "      <th>observation_end</th>\n",
       "      <th>frequency</th>\n",
       "      <th>frequency_short</th>\n",
       "      <th>units</th>\n",
       "      <th>units_short</th>\n",
       "      <th>seasonal_adjustment</th>\n",
       "      <th>seasonal_adjustment_short</th>\n",
       "      <th>last_updated</th>\n",
       "      <th>popularity</th>\n",
       "      <th>notes</th>\n",
       "    </tr>\n",
       "    <tr>\n",
       "      <th>series id</th>\n",
       "      <th></th>\n",
       "      <th></th>\n",
       "      <th></th>\n",
       "      <th></th>\n",
       "      <th></th>\n",
       "      <th></th>\n",
       "      <th></th>\n",
       "      <th></th>\n",
       "      <th></th>\n",
       "      <th></th>\n",
       "      <th></th>\n",
       "      <th></th>\n",
       "      <th></th>\n",
       "      <th></th>\n",
       "      <th></th>\n",
       "    </tr>\n",
       "  </thead>\n",
       "  <tbody>\n",
       "    <tr>\n",
       "      <th>SP500</th>\n",
       "      <td>SP500</td>\n",
       "      <td>2025-08-09</td>\n",
       "      <td>2025-08-09</td>\n",
       "      <td>S&amp;P 500</td>\n",
       "      <td>2015-08-10</td>\n",
       "      <td>2025-08-08</td>\n",
       "      <td>Daily, Close</td>\n",
       "      <td>D</td>\n",
       "      <td>Index</td>\n",
       "      <td>Index</td>\n",
       "      <td>Not Seasonally Adjusted</td>\n",
       "      <td>NSA</td>\n",
       "      <td>2025-08-08 19:02:05-05:00</td>\n",
       "      <td>88</td>\n",
       "      <td>The observations for the S&amp;P 500 represent the...</td>\n",
       "    </tr>\n",
       "    <tr>\n",
       "      <th>NASDAQCOM</th>\n",
       "      <td>NASDAQCOM</td>\n",
       "      <td>2025-08-09</td>\n",
       "      <td>2025-08-09</td>\n",
       "      <td>NASDAQ Composite Index</td>\n",
       "      <td>1971-02-05</td>\n",
       "      <td>2025-08-08</td>\n",
       "      <td>Daily, Close</td>\n",
       "      <td>D</td>\n",
       "      <td>Index Feb 5, 1971=100</td>\n",
       "      <td>Index Feb 5, 1971=100</td>\n",
       "      <td>Not Seasonally Adjusted</td>\n",
       "      <td>NSA</td>\n",
       "      <td>2025-08-08 22:55:08-05:00</td>\n",
       "      <td>73</td>\n",
       "      <td>The observations for the NASDAQ Composite Inde...</td>\n",
       "    </tr>\n",
       "    <tr>\n",
       "      <th>NASDAQ100</th>\n",
       "      <td>NASDAQ100</td>\n",
       "      <td>2025-08-09</td>\n",
       "      <td>2025-08-09</td>\n",
       "      <td>NASDAQ 100 Index</td>\n",
       "      <td>1986-01-02</td>\n",
       "      <td>2025-08-08</td>\n",
       "      <td>Daily, Close</td>\n",
       "      <td>D</td>\n",
       "      <td>Index</td>\n",
       "      <td>Index</td>\n",
       "      <td>Not Seasonally Adjusted</td>\n",
       "      <td>NSA</td>\n",
       "      <td>2025-08-08 22:52:58-05:00</td>\n",
       "      <td>67</td>\n",
       "      <td>The observations for the NASDAQ 100 Index repr...</td>\n",
       "    </tr>\n",
       "    <tr>\n",
       "      <th>VXNCLS</th>\n",
       "      <td>VXNCLS</td>\n",
       "      <td>2025-08-09</td>\n",
       "      <td>2025-08-09</td>\n",
       "      <td>CBOE NASDAQ 100 Volatility Index</td>\n",
       "      <td>2001-02-02</td>\n",
       "      <td>2025-08-07</td>\n",
       "      <td>Daily, Close</td>\n",
       "      <td>D</td>\n",
       "      <td>Index</td>\n",
       "      <td>Index</td>\n",
       "      <td>Not Seasonally Adjusted</td>\n",
       "      <td>NSA</td>\n",
       "      <td>2025-08-08 08:36:05-05:00</td>\n",
       "      <td>46</td>\n",
       "      <td>Copyright, 2016, Chicago Board Options Exchang...</td>\n",
       "    </tr>\n",
       "    <tr>\n",
       "      <th>NASDAQQGLDI</th>\n",
       "      <td>NASDAQQGLDI</td>\n",
       "      <td>2025-08-09</td>\n",
       "      <td>2025-08-09</td>\n",
       "      <td>Credit Suisse NASDAQ Gold FLOWS103 Price Index</td>\n",
       "      <td>2012-11-05</td>\n",
       "      <td>2025-08-08</td>\n",
       "      <td>Daily</td>\n",
       "      <td>D</td>\n",
       "      <td>Index</td>\n",
       "      <td>Index</td>\n",
       "      <td>Not Seasonally Adjusted</td>\n",
       "      <td>NSA</td>\n",
       "      <td>2025-08-08 23:29:33-05:00</td>\n",
       "      <td>5</td>\n",
       "      <td>For more information about this series, see: Q...</td>\n",
       "    </tr>\n",
       "  </tbody>\n",
       "</table>\n",
       "</div>"
      ],
      "text/plain": [
       "                      id realtime_start realtime_end                                           title observation_start observation_end     frequency frequency_short                  units            units_short      seasonal_adjustment seasonal_adjustment_short              last_updated popularity                                              notes\n",
       "series id                                                                                                                                                                                                                                                                                                                                                    \n",
       "SP500              SP500     2025-08-09   2025-08-09                                         S&P 500        2015-08-10      2025-08-08  Daily, Close               D                  Index                  Index  Not Seasonally Adjusted                       NSA 2025-08-08 19:02:05-05:00         88  The observations for the S&P 500 represent the...\n",
       "NASDAQCOM      NASDAQCOM     2025-08-09   2025-08-09                          NASDAQ Composite Index        1971-02-05      2025-08-08  Daily, Close               D  Index Feb 5, 1971=100  Index Feb 5, 1971=100  Not Seasonally Adjusted                       NSA 2025-08-08 22:55:08-05:00         73  The observations for the NASDAQ Composite Inde...\n",
       "NASDAQ100      NASDAQ100     2025-08-09   2025-08-09                                NASDAQ 100 Index        1986-01-02      2025-08-08  Daily, Close               D                  Index                  Index  Not Seasonally Adjusted                       NSA 2025-08-08 22:52:58-05:00         67  The observations for the NASDAQ 100 Index repr...\n",
       "VXNCLS            VXNCLS     2025-08-09   2025-08-09                CBOE NASDAQ 100 Volatility Index        2001-02-02      2025-08-07  Daily, Close               D                  Index                  Index  Not Seasonally Adjusted                       NSA 2025-08-08 08:36:05-05:00         46  Copyright, 2016, Chicago Board Options Exchang...\n",
       "NASDAQQGLDI  NASDAQQGLDI     2025-08-09   2025-08-09  Credit Suisse NASDAQ Gold FLOWS103 Price Index        2012-11-05      2025-08-08         Daily               D                  Index                  Index  Not Seasonally Adjusted                       NSA 2025-08-08 23:29:33-05:00          5  For more information about this series, see: Q..."
      ]
     },
     "execution_count": 33,
     "metadata": {},
     "output_type": "execute_result"
    }
   ],
   "source": [
    "nasdaq_search.head()"
   ]
  },
  {
   "cell_type": "markdown",
   "id": "5d9ccf01-14fb-4dd1-9a10-f881385abc91",
   "metadata": {},
   "source": [
    "# Pull Raw Data"
   ]
  },
  {
   "cell_type": "code",
   "execution_count": 34,
   "id": "25ddc974-bf43-4dd3-988d-0c45877dedff",
   "metadata": {},
   "outputs": [],
   "source": [
    "nasdaq = fred.get_series(series_id = \"NASDAQ100\")"
   ]
  },
  {
   "cell_type": "code",
   "execution_count": 44,
   "id": "cb10ad40-8bfa-4da3-8f41-b12df2e1b260",
   "metadata": {},
   "outputs": [
    {
     "data": {
      "text/plain": [
       "<Axes: title={'center': 'NASDAQ 100'}, xlabel='Year', ylabel='Shares'>"
      ]
     },
     "execution_count": 44,
     "metadata": {},
     "output_type": "execute_result"
    },
    {
     "data": {
      "image/png": "[encoded data removed]",
      "text/plain": [
       "<Figure size 1000x500 with 1 Axes>"
      ]
     },
     "metadata": {},
     "output_type": "display_data"
    }
   ],
   "source": [
    "plt.xlabel('Year')\n",
    "plt.ylabel('Shares')\n",
    "nasdaq.plot(figsize = (10, 5), title = 'NASDAQ 100', lw = 1.45)"
   ]
  },
  {
   "cell_type": "markdown",
   "id": "49ea8d17-3061-4748-9f2d-1406223a5af5",
   "metadata": {},
   "source": [
    "# Pull and Join Multiple Data Series"
   ]
  },
  {
   "cell_type": "code",
   "execution_count": null,
   "id": "d2fff9f8-6233-48b2-9092-c3164bdd6f2d",
   "metadata": {},
   "outputs": [],
   "source": []
  }
 ],
 "metadata": {
  "kernelspec": {
   "display_name": "Python 3 (ipykernel)",
   "language": "python",
   "name": "python3"
  },
  "language_info": {
   "codemirror_mode": {
    "name": "ipython",
    "version": 3
   },
   "file_extension": ".py",
   "mimetype": "text/x-python",
   "name": "python",
   "nbconvert_exporter": "python",
   "pygments_lexer": "ipython3",
   "version": "3.13.5"
  }
 },
 "nbformat": 4,
 "nbformat_minor": 5
}
