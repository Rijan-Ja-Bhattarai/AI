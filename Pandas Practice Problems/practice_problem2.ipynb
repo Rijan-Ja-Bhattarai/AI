{
 "cells": [
  {
   "cell_type": "code",
   "execution_count": 11,
   "id": "8358cf01-ac08-4554-932e-ca6c1859cb7d",
   "metadata": {},
   "outputs": [],
   "source": [
    "# Libraries\n",
    "import numpy as np\n",
    "import matplotlib.pyplot as plt\n",
    "import pandas as pd\n",
    "import random\n",
    "from datetime import datetime"
   ]
  },
  {
   "cell_type": "markdown",
   "id": "d99fc676-6c55-4222-9c56-bf66bb8bb9d1",
   "metadata": {},
   "source": [
    "# Generate the Dataset"
   ]
  },
  {
   "cell_type": "code",
   "execution_count": 12,
   "id": "218307c0-df22-436a-8f38-96764097eb6a",
   "metadata": {},
   "outputs": [
    {
     "name": "stdin",
     "output_type": "stream",
     "text": [
      "How Many Records to Generate:  2\n"
     ]
    }
   ],
   "source": [
    "dataset = {}\n",
    "\n",
    "recorcds = int(input(\"How Many Records to Generate: \"))"
   ]
  },
  {
   "cell_type": "code",
   "execution_count": 22,
   "id": "a553204b-5d31-4515-b8f6-2e2388c56727",
   "metadata": {},
   "outputs": [],
   "source": [
    "# Give the limit to the date\n",
    "start_date = datetime(2025, 7, 24)\n",
    "end_date = datetime(2028, 7, 24)"
   ]
  },
  {
   "cell_type": "markdown",
   "id": "8e8be267-1c2b-4d9f-a0d3-e29407092b92",
   "metadata": {},
   "source": [
    "# Clean and Structure the Dataset"
   ]
  },
  {
   "cell_type": "code",
   "execution_count": 4,
   "id": "4b4e6682-22ca-43c1-b4fd-8c243419b55e",
   "metadata": {},
   "outputs": [],
   "source": [
    "def struct_dataset():\n",
    "    pass"
   ]
  },
  {
   "cell_type": "markdown",
   "id": "facf464c-52a0-4ac1-8824-dd292a6d353a",
   "metadata": {},
   "source": [
    "# Visualize Data"
   ]
  },
  {
   "cell_type": "code",
   "execution_count": 7,
   "id": "4318d4da-adcd-483b-8e82-93264ed9a99a",
   "metadata": {},
   "outputs": [],
   "source": [
    "def visulaize_data():\n",
    "    pass"
   ]
  },
  {
   "cell_type": "code",
   "execution_count": null,
   "id": "abbaa0a8-1499-421b-84a6-86350d4a73dd",
   "metadata": {},
   "outputs": [],
   "source": []
  }
 ],
 "metadata": {
  "kernelspec": {
   "display_name": "Python 3 (ipykernel)",
   "language": "python",
   "name": "python3"
  },
  "language_info": {
   "codemirror_mode": {
    "name": "ipython",
    "version": 3
   },
   "file_extension": ".py",
   "mimetype": "text/x-python",
   "name": "python",
   "nbconvert_exporter": "python",
   "pygments_lexer": "ipython3",
   "version": "3.13.5"
  }
 },
 "nbformat": 4,
 "nbformat_minor": 5
}
