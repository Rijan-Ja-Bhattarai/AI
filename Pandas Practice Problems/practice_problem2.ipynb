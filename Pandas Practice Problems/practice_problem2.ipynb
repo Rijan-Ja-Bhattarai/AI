{
 "cells": [
  {
   "cell_type": "code",
   "execution_count": 2,
   "id": "8358cf01-ac08-4554-932e-ca6c1859cb7d",
   "metadata": {},
   "outputs": [],
   "source": [
    "# Libraries\n",
    "import numpy as np\n",
    "import matplotlib.pyplot as plt\n",
    "import pandas as pd"
   ]
  },
  {
   "cell_type": "markdown",
   "id": "d99fc676-6c55-4222-9c56-bf66bb8bb9d1",
   "metadata": {},
   "source": [
    "# Generate the Dataset"
   ]
  },
  {
   "cell_type": "code",
   "execution_count": 3,
   "id": "218307c0-df22-436a-8f38-96764097eb6a",
   "metadata": {},
   "outputs": [],
   "source": [
    "def gen_dataset():\n",
    "    pass"
   ]
  },
  {
   "cell_type": "markdown",
   "id": "8e8be267-1c2b-4d9f-a0d3-e29407092b92",
   "metadata": {},
   "source": [
    "# Clean and Structure the Dataset"
   ]
  },
  {
   "cell_type": "code",
   "execution_count": null,
   "id": "4b4e6682-22ca-43c1-b4fd-8c243419b55e",
   "metadata": {},
   "outputs": [],
   "source": [
    "def "
   ]
  }
 ],
 "metadata": {
  "kernelspec": {
   "display_name": "Python 3 (ipykernel)",
   "language": "python",
   "name": "python3"
  },
  "language_info": {
   "codemirror_mode": {
    "name": "ipython",
    "version": 3
   },
   "file_extension": ".py",
   "mimetype": "text/x-python",
   "name": "python",
   "nbconvert_exporter": "python",
   "pygments_lexer": "ipython3",
   "version": "3.13.5"
  }
 },
 "nbformat": 4,
 "nbformat_minor": 5
}
