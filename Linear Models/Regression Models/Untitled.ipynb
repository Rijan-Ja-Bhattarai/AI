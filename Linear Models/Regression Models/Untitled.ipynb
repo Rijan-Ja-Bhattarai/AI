{
 "cells": [
  {
   "cell_type": "code",
   "execution_count": 8,
   "id": "f7d1a94a-c473-48f3-be40-64aa9c3d4b44",
   "metadata": {},
   "outputs": [],
   "source": [
    "import numpy as np\n",
    "import pandas as pd \n",
    "import matplotlib.pyplot as plt\n",
    "import math"
   ]
  },
  {
   "cell_type": "code",
   "execution_count": 9,
   "id": "e8ef5121-3134-4f03-84e0-07ec28c1dc38",
   "metadata": {},
   "outputs": [],
   "source": [
    "x_train = np.array([10, 20, 30])\n",
    "y_train = np.array([1, 2, 3])\n",
    "w_init= 0\n",
    "b_init = 0\n",
    "alpha = 0.001"
   ]
  },
  {
   "cell_type": "markdown",
   "id": "1a9ed13b-25fe-4a72-9742-e39faf461b4c",
   "metadata": {},
   "source": [
    "# Calculate the Cost Function"
   ]
  },
  {
   "cell_type": "code",
   "execution_count": 10,
   "id": "99b90845-ff9e-4eb6-9c05-3ef88324a188",
   "metadata": {},
   "outputs": [],
   "source": [
    "def cost_function(x, y, w, b):\n",
    "    m = x.shape[0]\n",
    "    cost_sum = 0\n",
    "    \n",
    "    for i in range(m):\n",
    "        f_wb = w*x[i] + b\n",
    "        cost = (f_wb - y[i]) ** 2\n",
    "        cost_sum = cost_sum + cost\n",
    "\n",
    "    total_cost = (1/2*m) * cost_sum\n",
    "\n",
    "    return total_cost"
   ]
  },
  {
   "cell_type": "markdown",
   "id": "b318998b-a9b8-47b9-af0f-02063abf606b",
   "metadata": {},
   "source": [
    "# Calculate Gradient Descent"
   ]
  },
  {
   "cell_type": "code",
   "execution_count": 12,
   "id": "4d0cdae8-2e47-4b3a-8905-25b7626c4fe6",
   "metadata": {},
   "outputs": [],
   "source": [
    "def compute_gradient(x, y, w, b):\n",
    "    m = x.shape[0]\n",
    "\n",
    "    for i in range(m):\n",
    "        w_new = (w*x[i] + b - y) * x[i]\n",
    "        b_new = (w*x[i] + b - y)\n",
    "        w = w_new\n",
    "        b = b_new\n",
    "\n",
    "    dJ_dw, dJ_db  = (1/m)*w, (1/m)*b\n",
    "\n",
    "    return (dJ_dw, dJ_db)\n",
    "    "
   ]
  },
  {
   "cell_type": "code",
   "execution_count": 15,
   "id": "098fb413-0180-41ac-899f-e14b8b45d76b",
   "metadata": {},
   "outputs": [],
   "source": [
    "def gradient_descent(x, y, gradient_function, alpha, w_init, b_init):\n",
    "    w = w_init\n",
    "    b = b_init\n",
    "\n",
    "    m = x.shape[0]\n",
    "\n",
    "    for i in range(m):\n",
    "        dJ_dw, dJ_db = gradient_function(x, y, w, b)\n",
    "        \n",
    "        w = w - alpha * dJ_dw\n",
    "        b = b - alpha * dJ_db\n",
    "\n",
    "    return w, b"
   ]
  },
  {
   "cell_type": "code",
   "execution_count": null,
   "id": "708c38b7-20ff-4f62-8091-972a96d700ab",
   "metadata": {},
   "outputs": [],
   "source": []
  }
 ],
 "metadata": {
  "kernelspec": {
   "display_name": "Python 3 (ipykernel)",
   "language": "python",
   "name": "python3"
  },
  "language_info": {
   "codemirror_mode": {
    "name": "ipython",
    "version": 3
   },
   "file_extension": ".py",
   "mimetype": "text/x-python",
   "name": "python",
   "nbconvert_exporter": "python",
   "pygments_lexer": "ipython3",
   "version": "3.13.5"
  }
 },
 "nbformat": 4,
 "nbformat_minor": 5
}
